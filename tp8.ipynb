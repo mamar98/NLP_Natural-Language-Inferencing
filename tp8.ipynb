{
  "nbformat": 4,
  "nbformat_minor": 0,
  "metadata": {
    "kernelspec": {
      "display_name": "Python 3",
      "language": "python",
      "name": "python3"
    },
    "language_info": {
      "codemirror_mode": {
        "name": "ipython",
        "version": 3
      },
      "file_extension": ".py",
      "mimetype": "text/x-python",
      "name": "python",
      "nbconvert_exporter": "python",
      "pygments_lexer": "ipython3",
      "version": "3.6.9"
    },
    "colab": {
      "name": "tp8.ipynb",
      "provenance": [],
      "collapsed_sections": [
        "IqTpAcz_I7lr",
        "TeuyqXhXI7lw",
        "oXeEhnGII7l9"
      ]
    }
  },
  "cells": [
    {
      "cell_type": "markdown",
      "metadata": {
        "id": "0HuY8uaRI7kt"
      },
      "source": [
        "# Etudiants : Haumesser Pierrick - MA Marine - PEJOUT Aurelien"
      ]
    },
    {
      "cell_type": "markdown",
      "metadata": {
        "id": "DhmMmbe5I7k2"
      },
      "source": [
        "# CentraleSupelec - Natural language processing\n",
        "# Practical session n°7\n",
        "\n",
        "\n",
        "## Natural Language Inferencing (NLI): \n",
        "\n",
        "(NLI) is a classical NLP (Natural Language Processing) problem that involves taking two sentences (the premise and the hypothesis ), and deciding how they are related- if the premise *entails* the hypothesis, *contradicts* it, or *neither*.\n",
        "\n",
        "Ex: \n",
        "\n",
        "\n",
        "| Premise | Label | Hypothesis |\n",
        "| --- | --- | --- |\n",
        "| A man inspects the uniform of a figure in some East Asian country. | contradiction | The man is sleeping. |\n",
        "| An older and younger man smiling. | neutral | Two men are smiling and laughing at the cats playing on the floor. |\n",
        "| A soccer game with multiple males playing. | entailment | Some men are playing a sport. |\n",
        "\n",
        "### Stanford NLI (SNLI) corpus\n",
        "\n",
        "In this labwork, I propose to use the Stanford NLI (SNLI) corpus ( https://nlp.stanford.edu/projects/snli/ ), available in the *Datasets* library by Huggingface.\n",
        "\n",
        "    from datasets import load_dataset\n",
        "    snli = load_dataset(\"snli\")\n",
        "    #Removing sentence pairs with no label (-1)\n",
        "    snli = snli.filter(lambda example: example['label'] != -1) \n",
        "\n",
        "## Subject\n",
        "\n",
        "You are asked to provide an operational Jupyter notebook that performs the task of NLI. For that, you need to tackle the following aspects of the problem:\n",
        "\n",
        "1. Loading and preprocessing the data\n",
        "2. Designing a PyTorch model that, given two sentences, decides how they are related (*entails*, *contradicts* or *neither*.)\n",
        "3. Training and evaluating the model using appropriate metrics\n",
        "4. (Optional) Allowing to play with the model (forward user sentences and visualize the prediction easily)\n",
        "5. (Optional) Providing visual insight about the model (i.e. visualizing the attention if your model is using attention)\n",
        "\n",
        "Although it is not mandatory, I suggest that you use a transformer model to perform the task. For that, you can use the *Transformer* library by Huggingface.\n",
        "\n",
        "## Evaluation\n",
        "\n",
        "The evaluation will be based on several criteria:\n",
        "\n",
        "- Clarity and readability of the notebook. The notebook is the report of you project. Make it easy and pleasant to read.\n",
        "- Justification of implementation choices (i.e. the network, the cost funtion, the optimizer, ...)\n",
        "- Quality of the code. The various deeplearning and NLP labworks provide many example of good practices for designing experiments with neural networks. Use them as inspirational examples!\n",
        "\n",
        "## Additional recommendations\n",
        "\n",
        "- You are not seeking to publish a research paper! I'm not expecting state-of-the-art results! The idea of this labwork is to assess that you have integrated the skills necessary to handle textual data using deep neural network techniques.\n",
        "\n",
        "- This labwork will be evaluated but we are still here to help you! Don't hesitate to request our help if you are stuck.\n",
        "\n",
        "- If you intend to use BERT based models, let me give you an advice. The bert-base-* models available in *Transformers* need more than 12Go to be fine-tuned on GPU. To avoid memory issues, you can use several solutions: \n",
        "\n",
        "    - Use a lighter BERT based model such as DistilBERT, ALBERT, ...\n",
        "    - Train a classification model on top of BERT, whithout fine-tuning it (i.e. freezing BERT weights)\n",
        "\n",
        "## Huggingface documentations\n",
        "\n",
        "In case you want to use the huggingface *Datasets* and *Transformer* libraries (which I advice), here are some useful documentation pages:\n",
        "\n",
        "- Dataset quick tour\n",
        "\n",
        "    https://huggingface.co/docs/datasets/quicktour.html\n",
        "    \n",
        "- Documentation on data preprocessing for transformers\n",
        "\n",
        "    https://huggingface.co/transformers/preprocessing.html\n",
        "    \n",
        "- Transformer Quick tour (with distilbert example for classification).\n",
        "\n",
        "    https://huggingface.co/transformers/quicktour.html\n",
        "    \n"
      ]
    },
    {
      "cell_type": "markdown",
      "metadata": {
        "id": "NDMyK6YFI7lA"
      },
      "source": [
        "## Part 0 : Imports"
      ]
    },
    {
      "cell_type": "code",
      "metadata": {
        "id": "YeRI_q1aI7lC"
      },
      "source": [
        "from nltk.tokenize import word_tokenize \n",
        "import pandas as pd\n",
        "import os\n",
        "from datasets import load_dataset\n",
        "from transformers import AutoTokenizer, BertForSequenceClassification,AutoModelForSequenceClassification, DistilBertConfig, DistilBertTokenizer, DistilBertForSequenceClassification, BertTokenizer, BertModel,DistilBertModel\n",
        "import time\n",
        "import multiprocessing\n",
        "from tqdm import tqdm\n",
        "import torch\n",
        "from torch import nn\n"
      ],
      "execution_count": null,
      "outputs": []
    },
    {
      "cell_type": "markdown",
      "metadata": {
        "id": "zTXuOWH1I7lE"
      },
      "source": [
        "## Part 0 bis : Variables"
      ]
    },
    {
      "cell_type": "code",
      "metadata": {
        "id": "JrwnpqcDI7lG"
      },
      "source": [
        "BATCH_SIZE = 64\n",
        "device = 'cuda' if torch.cuda.is_available() else 'cpu'\n",
        "learning_rate = 1e-5\n",
        "epocs = 10"
      ],
      "execution_count": null,
      "outputs": []
    },
    {
      "cell_type": "markdown",
      "metadata": {
        "id": "px5YoTSzI7lI"
      },
      "source": [
        "## Part 1 : Load data / tokenizer and preprocess\n"
      ]
    },
    {
      "cell_type": "markdown",
      "metadata": {
        "id": "w5LsL53PI7lJ"
      },
      "source": [
        "On télécharge dans un premier temps de data set SNLI"
      ]
    },
    {
      "cell_type": "code",
      "metadata": {
        "id": "mYnVw4KSI7lL",
        "outputId": "e5f015c1-50c1-4ce3-cfe6-58d61f09c7dd"
      },
      "source": [
        "snli = load_dataset(\"snli\")\n",
        "#Removing sentence pairs with no label (-1)\n",
        "snli = snli.filter(lambda example: example['label'] != -1)"
      ],
      "execution_count": null,
      "outputs": [
        {
          "output_type": "stream",
          "text": [
            "Reusing dataset snli (/usr/users/gpusdi1/gpusdi1_34/.cache/huggingface/datasets/snli/plain_text/1.0.0/bb1102591c6230bd78813e229d5dd4c7fbf4fc478cec28f298761eb69e5b537c)\n",
            "Loading cached processed dataset at /usr/users/gpusdi1/gpusdi1_34/.cache/huggingface/datasets/snli/plain_text/1.0.0/bb1102591c6230bd78813e229d5dd4c7fbf4fc478cec28f298761eb69e5b537c/cache-9fd499264a29715c.arrow\n",
            "Loading cached processed dataset at /usr/users/gpusdi1/gpusdi1_34/.cache/huggingface/datasets/snli/plain_text/1.0.0/bb1102591c6230bd78813e229d5dd4c7fbf4fc478cec28f298761eb69e5b537c/cache-d42e8f7826ad1311.arrow\n",
            "Loading cached processed dataset at /usr/users/gpusdi1/gpusdi1_34/.cache/huggingface/datasets/snli/plain_text/1.0.0/bb1102591c6230bd78813e229d5dd4c7fbf4fc478cec28f298761eb69e5b537c/cache-c2a8e9801b4a0855.arrow\n"
          ],
          "name": "stderr"
        }
      ]
    },
    {
      "cell_type": "markdown",
      "metadata": {
        "id": "Xa9Z71U0I7lN"
      },
      "source": [
        "On visualise le dataset pour mieux comprendre comment celui-ci est construit."
      ]
    },
    {
      "cell_type": "code",
      "metadata": {
        "id": "JBk4AfD4I7lO",
        "outputId": "b1c2720e-67ca-4fa9-dde0-495b5f0284af"
      },
      "source": [
        "snli"
      ],
      "execution_count": null,
      "outputs": [
        {
          "output_type": "execute_result",
          "data": {
            "text/plain": [
              "DatasetDict({\n",
              "    test: Dataset({\n",
              "        features: ['premise', 'hypothesis', 'label'],\n",
              "        num_rows: 9824\n",
              "    })\n",
              "    train: Dataset({\n",
              "        features: ['premise', 'hypothesis', 'label'],\n",
              "        num_rows: 549367\n",
              "    })\n",
              "    validation: Dataset({\n",
              "        features: ['premise', 'hypothesis', 'label'],\n",
              "        num_rows: 9842\n",
              "    })\n",
              "})"
            ]
          },
          "metadata": {
            "tags": []
          },
          "execution_count": 4
        }
      ]
    },
    {
      "cell_type": "markdown",
      "metadata": {
        "id": "DQzQSC47I7lQ"
      },
      "source": [
        "Regardons un premier exemple de phrase :"
      ]
    },
    {
      "cell_type": "code",
      "metadata": {
        "id": "mHaIvyXhI7lR",
        "outputId": "e5f22d99-9c5f-4c05-f91d-ffa9147af544"
      },
      "source": [
        "snli['train']['premise'][1]"
      ],
      "execution_count": null,
      "outputs": [
        {
          "output_type": "execute_result",
          "data": {
            "text/plain": [
              "'A person on a horse jumps over a broken down airplane.'"
            ]
          },
          "metadata": {
            "tags": []
          },
          "execution_count": 5
        }
      ]
    },
    {
      "cell_type": "code",
      "metadata": {
        "id": "Fx5cMzjOI7lT",
        "outputId": "e8eac140-c6b9-4fbb-8dbc-4bdaaeb1d452"
      },
      "source": [
        "snli['train']['hypothesis'][1]"
      ],
      "execution_count": null,
      "outputs": [
        {
          "output_type": "execute_result",
          "data": {
            "text/plain": [
              "'A person is at a diner, ordering an omelette.'"
            ]
          },
          "metadata": {
            "tags": []
          },
          "execution_count": 6
        }
      ]
    },
    {
      "cell_type": "code",
      "metadata": {
        "id": "K0RcGzjXI7lU",
        "outputId": "27e04e4d-c24e-4b6e-d878-4b9852e8c550"
      },
      "source": [
        "snli['train']['label'][1]"
      ],
      "execution_count": null,
      "outputs": [
        {
          "output_type": "execute_result",
          "data": {
            "text/plain": [
              "2"
            ]
          },
          "metadata": {
            "tags": []
          },
          "execution_count": 7
        }
      ]
    },
    {
      "cell_type": "code",
      "metadata": {
        "id": "pOETynRiI7lW"
      },
      "source": [
        "train = snli['train']\n",
        "validation = snli['validation']\n",
        "test = snli['test']"
      ],
      "execution_count": null,
      "outputs": []
    },
    {
      "cell_type": "code",
      "metadata": {
        "id": "NlqskQjVI7lX",
        "outputId": "98147dd1-427a-4366-e95a-3b83c609541a"
      },
      "source": [
        "print(train.shape)\n",
        "print(validation.shape)\n",
        "print(test.shape)"
      ],
      "execution_count": null,
      "outputs": [
        {
          "output_type": "stream",
          "text": [
            "(549367, 3)\n",
            "(9842, 3)\n",
            "(9824, 3)\n"
          ],
          "name": "stdout"
        }
      ]
    },
    {
      "cell_type": "markdown",
      "metadata": {
        "id": "ojoMtBvEI7lY"
      },
      "source": [
        "Durant ce TP, on se propose d'utiliser un BERT (Bidirectional Encoder Representations from Transformers). Les GPU de l'école n'étant pas assez puissants pour faire tourner ce modèle, on utilise un distilBERT (un modèle plus léger que le BERT initial) que l'on va entrainer pour notre problème.\n",
        "\n",
        "Ainsi, on aura seulement 3 outputs, représentant le lien entre les deux phrases.\n",
        "\n",
        "On utilise aussi le tokenizer issu du distilBERT pour transformer nos phrases en un input que le modèle puisse lire.\n",
        "\n",
        "Dans cette partie, on suit la méthode présentée sur cette page web : https://huggingface.co/docs/datasets/quicktour.html"
      ]
    },
    {
      "cell_type": "code",
      "metadata": {
        "id": "DP7Ompg-I7la",
        "outputId": "4087e811-255a-4965-9db1-7d5f4c395b3b"
      },
      "source": [
        "from transformers import DistilBertConfig, DistilBertTokenizer, DistilBertForSequenceClassification\n",
        "\n",
        "bertmodel = DistilBertForSequenceClassification.from_pretrained(\"distilbert-base-uncased\",output_attentions=True,num_labels=3)\n",
        "tokenizer = DistilBertTokenizer.from_pretrained(\"distilbert-base-uncased\")"
      ],
      "execution_count": null,
      "outputs": [
        {
          "output_type": "stream",
          "text": [
            "Some weights of the model checkpoint at distilbert-base-uncased were not used when initializing DistilBertForSequenceClassification: ['vocab_transform.weight', 'vocab_transform.bias', 'vocab_layer_norm.weight', 'vocab_layer_norm.bias', 'vocab_projector.weight', 'vocab_projector.bias']\n",
            "- This IS expected if you are initializing DistilBertForSequenceClassification from the checkpoint of a model trained on another task or with another architecture (e.g. initializing a BertForSequenceClassification model from a BertForPreTraining model).\n",
            "- This IS NOT expected if you are initializing DistilBertForSequenceClassification from the checkpoint of a model that you expect to be exactly identical (initializing a BertForSequenceClassification model from a BertForSequenceClassification model).\n",
            "Some weights of DistilBertForSequenceClassification were not initialized from the model checkpoint at distilbert-base-uncased and are newly initialized: ['pre_classifier.weight', 'pre_classifier.bias', 'classifier.weight', 'classifier.bias']\n",
            "You should probably TRAIN this model on a down-stream task to be able to use it for predictions and inference.\n"
          ],
          "name": "stderr"
        }
      ]
    },
    {
      "cell_type": "code",
      "metadata": {
        "id": "6_pmhS3lI7lc",
        "outputId": "22a40f28-34a2-4dc1-ea01-35651f670d28"
      },
      "source": [
        "tokenizer"
      ],
      "execution_count": null,
      "outputs": [
        {
          "output_type": "execute_result",
          "data": {
            "text/plain": [
              "PreTrainedTokenizer(name_or_path='distilbert-base-uncased', vocab_size=30522, model_max_len=512, is_fast=False, padding_side='right', special_tokens={'unk_token': '[UNK]', 'sep_token': '[SEP]', 'pad_token': '[PAD]', 'cls_token': '[CLS]', 'mask_token': '[MASK]'})"
            ]
          },
          "metadata": {
            "tags": []
          },
          "execution_count": 11
        }
      ]
    },
    {
      "cell_type": "markdown",
      "metadata": {
        "id": "drGhnUvtI7ld"
      },
      "source": [
        "La phrase la plus longue du train set fait 110 mots c'est pour cela que le padding complète jusqu'à 110 mots.\n",
        "(En utilisant padding=True, on obtient une erreur lors de l'entraînement d'où la synthaxe que l'on a dans la fonction \"bert_encode\")"
      ]
    },
    {
      "cell_type": "code",
      "metadata": {
        "id": "4TvCApYUI7le"
      },
      "source": [
        "def bert_encode(dataset):\n",
        "    return(tokenizer(dataset['premise'], dataset['hypothesis'], truncation=True, padding='max_length',max_length = 110))"
      ],
      "execution_count": null,
      "outputs": []
    },
    {
      "cell_type": "code",
      "metadata": {
        "id": "VaHfWt0qI7lf",
        "outputId": "ee8ae42f-3aa1-4078-f546-6e22e59141b2"
      },
      "source": [
        "train = train.map(bert_encode, batched=True,batch_size = BATCH_SIZE, num_proc=os.cpu_count())\n",
        "test = test.map(bert_encode, batched=True,batch_size = BATCH_SIZE,num_proc=os.cpu_count())\n",
        "validation = validation.map(bert_encode, batch_size = BATCH_SIZE,batched=True,num_proc=os.cpu_count())"
      ],
      "execution_count": null,
      "outputs": [
        {
          "output_type": "stream",
          "text": [
            "Loading cached processed dataset at /usr/users/gpusdi1/gpusdi1_34/.cache/huggingface/datasets/snli/plain_text/1.0.0/bb1102591c6230bd78813e229d5dd4c7fbf4fc478cec28f298761eb69e5b537c/cache-2e9554cba99c566b.arrow\n",
            "Loading cached processed dataset at /usr/users/gpusdi1/gpusdi1_34/.cache/huggingface/datasets/snli/plain_text/1.0.0/bb1102591c6230bd78813e229d5dd4c7fbf4fc478cec28f298761eb69e5b537c/cache-dba3dd57a689cd9b.arrow\n",
            "Loading cached processed dataset at /usr/users/gpusdi1/gpusdi1_34/.cache/huggingface/datasets/snli/plain_text/1.0.0/bb1102591c6230bd78813e229d5dd4c7fbf4fc478cec28f298761eb69e5b537c/cache-ff7ffd696d3f55fc.arrow\n",
            "Loading cached processed dataset at /usr/users/gpusdi1/gpusdi1_34/.cache/huggingface/datasets/snli/plain_text/1.0.0/bb1102591c6230bd78813e229d5dd4c7fbf4fc478cec28f298761eb69e5b537c/cache-d35ff4a1a9284928.arrow\n",
            "Loading cached processed dataset at /usr/users/gpusdi1/gpusdi1_34/.cache/huggingface/datasets/snli/plain_text/1.0.0/bb1102591c6230bd78813e229d5dd4c7fbf4fc478cec28f298761eb69e5b537c/cache-bd0942e1b51ebd43.arrow\n",
            "Loading cached processed dataset at /usr/users/gpusdi1/gpusdi1_34/.cache/huggingface/datasets/snli/plain_text/1.0.0/bb1102591c6230bd78813e229d5dd4c7fbf4fc478cec28f298761eb69e5b537c/cache-467c48f53c97e7b5.arrow\n",
            "Loading cached processed dataset at /usr/users/gpusdi1/gpusdi1_34/.cache/huggingface/datasets/snli/plain_text/1.0.0/bb1102591c6230bd78813e229d5dd4c7fbf4fc478cec28f298761eb69e5b537c/cache-a0c69a6002562b5b.arrow\n",
            "Loading cached processed dataset at /usr/users/gpusdi1/gpusdi1_34/.cache/huggingface/datasets/snli/plain_text/1.0.0/bb1102591c6230bd78813e229d5dd4c7fbf4fc478cec28f298761eb69e5b537c/cache-befc59675cf35c7d.arrow\n",
            "Loading cached processed dataset at /usr/users/gpusdi1/gpusdi1_34/.cache/huggingface/datasets/snli/plain_text/1.0.0/bb1102591c6230bd78813e229d5dd4c7fbf4fc478cec28f298761eb69e5b537c/cache-8d48fa0986ac1b2c.arrow\n",
            "Loading cached processed dataset at /usr/users/gpusdi1/gpusdi1_34/.cache/huggingface/datasets/snli/plain_text/1.0.0/bb1102591c6230bd78813e229d5dd4c7fbf4fc478cec28f298761eb69e5b537c/cache-1e1f9b81f2de35c4.arrow\n",
            "Loading cached processed dataset at /usr/users/gpusdi1/gpusdi1_34/.cache/huggingface/datasets/snli/plain_text/1.0.0/bb1102591c6230bd78813e229d5dd4c7fbf4fc478cec28f298761eb69e5b537c/cache-7d37f71debe250c6.arrow\n",
            "Loading cached processed dataset at /usr/users/gpusdi1/gpusdi1_34/.cache/huggingface/datasets/snli/plain_text/1.0.0/bb1102591c6230bd78813e229d5dd4c7fbf4fc478cec28f298761eb69e5b537c/cache-b5afb764f9884404.arrow\n",
            "Loading cached processed dataset at /usr/users/gpusdi1/gpusdi1_34/.cache/huggingface/datasets/snli/plain_text/1.0.0/bb1102591c6230bd78813e229d5dd4c7fbf4fc478cec28f298761eb69e5b537c/cache-8714fdee0706b917.arrow\n",
            "Loading cached processed dataset at /usr/users/gpusdi1/gpusdi1_34/.cache/huggingface/datasets/snli/plain_text/1.0.0/bb1102591c6230bd78813e229d5dd4c7fbf4fc478cec28f298761eb69e5b537c/cache-d0ebd83b7e2e36b4.arrow\n",
            "Loading cached processed dataset at /usr/users/gpusdi1/gpusdi1_34/.cache/huggingface/datasets/snli/plain_text/1.0.0/bb1102591c6230bd78813e229d5dd4c7fbf4fc478cec28f298761eb69e5b537c/cache-c6bd16cf2e3261b0.arrow\n",
            "Loading cached processed dataset at /usr/users/gpusdi1/gpusdi1_34/.cache/huggingface/datasets/snli/plain_text/1.0.0/bb1102591c6230bd78813e229d5dd4c7fbf4fc478cec28f298761eb69e5b537c/cache-07e1eb096b71c1fb.arrow\n",
            "Loading cached processed dataset at /usr/users/gpusdi1/gpusdi1_34/.cache/huggingface/datasets/snli/plain_text/1.0.0/bb1102591c6230bd78813e229d5dd4c7fbf4fc478cec28f298761eb69e5b537c/cache-a0656ba74e2e89fa.arrow\n",
            "Loading cached processed dataset at /usr/users/gpusdi1/gpusdi1_34/.cache/huggingface/datasets/snli/plain_text/1.0.0/bb1102591c6230bd78813e229d5dd4c7fbf4fc478cec28f298761eb69e5b537c/cache-824c47664cea2d89.arrow\n",
            "Loading cached processed dataset at /usr/users/gpusdi1/gpusdi1_34/.cache/huggingface/datasets/snli/plain_text/1.0.0/bb1102591c6230bd78813e229d5dd4c7fbf4fc478cec28f298761eb69e5b537c/cache-83296782f4373572.arrow\n",
            "Loading cached processed dataset at /usr/users/gpusdi1/gpusdi1_34/.cache/huggingface/datasets/snli/plain_text/1.0.0/bb1102591c6230bd78813e229d5dd4c7fbf4fc478cec28f298761eb69e5b537c/cache-6b4d755eddd12d89.arrow\n",
            "Loading cached processed dataset at /usr/users/gpusdi1/gpusdi1_34/.cache/huggingface/datasets/snli/plain_text/1.0.0/bb1102591c6230bd78813e229d5dd4c7fbf4fc478cec28f298761eb69e5b537c/cache-48ba8caa6de0bf00.arrow\n",
            "Loading cached processed dataset at /usr/users/gpusdi1/gpusdi1_34/.cache/huggingface/datasets/snli/plain_text/1.0.0/bb1102591c6230bd78813e229d5dd4c7fbf4fc478cec28f298761eb69e5b537c/cache-24113914d7e7c498.arrow\n",
            "Loading cached processed dataset at /usr/users/gpusdi1/gpusdi1_34/.cache/huggingface/datasets/snli/plain_text/1.0.0/bb1102591c6230bd78813e229d5dd4c7fbf4fc478cec28f298761eb69e5b537c/cache-68808cf13ac1d618.arrow\n",
            "Loading cached processed dataset at /usr/users/gpusdi1/gpusdi1_34/.cache/huggingface/datasets/snli/plain_text/1.0.0/bb1102591c6230bd78813e229d5dd4c7fbf4fc478cec28f298761eb69e5b537c/cache-6b573a23aaba7760.arrow\n"
          ],
          "name": "stderr"
        }
      ]
    },
    {
      "cell_type": "markdown",
      "metadata": {
        "id": "-qmvGCGmI7lh"
      },
      "source": [
        "input_ids est la représentation en nombre de la premise et de l'hypothèse. C'est cette variable qui sera utilisé en entrée du modèle."
      ]
    },
    {
      "cell_type": "code",
      "metadata": {
        "id": "OIb09CQjI7li",
        "outputId": "3f579da1-1cb2-4093-d946-80cd2c315d61"
      },
      "source": [
        "print(train[0])"
      ],
      "execution_count": null,
      "outputs": [
        {
          "output_type": "stream",
          "text": [
            "{'attention_mask': [1, 1, 1, 1, 1, 1, 1, 1, 1, 1, 1, 1, 1, 1, 1, 1, 1, 1, 1, 1, 1, 1, 1, 1, 1, 0, 0, 0, 0, 0, 0, 0, 0, 0, 0, 0, 0, 0, 0, 0, 0, 0, 0, 0, 0, 0, 0, 0, 0, 0, 0, 0, 0, 0, 0, 0, 0, 0, 0, 0, 0, 0, 0, 0, 0, 0, 0, 0, 0, 0, 0, 0, 0, 0, 0, 0, 0, 0, 0, 0, 0, 0, 0, 0, 0, 0, 0, 0, 0, 0, 0, 0, 0, 0, 0, 0, 0, 0, 0, 0, 0, 0, 0, 0, 0, 0, 0, 0, 0, 0], 'hypothesis': 'A person is training his horse for a competition.', 'input_ids': [101, 1037, 2711, 2006, 1037, 3586, 14523, 2058, 1037, 3714, 2091, 13297, 1012, 102, 1037, 2711, 2003, 2731, 2010, 3586, 2005, 1037, 2971, 1012, 102, 0, 0, 0, 0, 0, 0, 0, 0, 0, 0, 0, 0, 0, 0, 0, 0, 0, 0, 0, 0, 0, 0, 0, 0, 0, 0, 0, 0, 0, 0, 0, 0, 0, 0, 0, 0, 0, 0, 0, 0, 0, 0, 0, 0, 0, 0, 0, 0, 0, 0, 0, 0, 0, 0, 0, 0, 0, 0, 0, 0, 0, 0, 0, 0, 0, 0, 0, 0, 0, 0, 0, 0, 0, 0, 0, 0, 0, 0, 0, 0, 0, 0, 0, 0, 0], 'label': 1, 'premise': 'A person on a horse jumps over a broken down airplane.'}\n"
          ],
          "name": "stdout"
        }
      ]
    },
    {
      "cell_type": "code",
      "metadata": {
        "id": "t16Z-gcWI7lj",
        "outputId": "9b98a9d0-7a10-4de9-f6cb-c2ff1e587153"
      },
      "source": [
        "train = train.map(lambda examples: {'labels': examples['label']}, batched=True, num_proc = os.cpu_count())\n",
        "validation = validation.map(lambda examples: {'labels': examples['label']}, batched=True, num_proc = os.cpu_count())\n",
        "test = test.map(lambda examples: {'labels': examples['label']}, batched=True, num_proc = os.cpu_count())"
      ],
      "execution_count": null,
      "outputs": [
        {
          "output_type": "stream",
          "text": [
            "Loading cached processed dataset at /usr/users/gpusdi1/gpusdi1_34/.cache/huggingface/datasets/snli/plain_text/1.0.0/bb1102591c6230bd78813e229d5dd4c7fbf4fc478cec28f298761eb69e5b537c/cache-c72cdc593bd142ba.arrow\n",
            "Loading cached processed dataset at /usr/users/gpusdi1/gpusdi1_34/.cache/huggingface/datasets/snli/plain_text/1.0.0/bb1102591c6230bd78813e229d5dd4c7fbf4fc478cec28f298761eb69e5b537c/cache-e3653473b8a4ec5e.arrow\n",
            "Loading cached processed dataset at /usr/users/gpusdi1/gpusdi1_34/.cache/huggingface/datasets/snli/plain_text/1.0.0/bb1102591c6230bd78813e229d5dd4c7fbf4fc478cec28f298761eb69e5b537c/cache-5df24d06d82024c0.arrow\n",
            "Loading cached processed dataset at /usr/users/gpusdi1/gpusdi1_34/.cache/huggingface/datasets/snli/plain_text/1.0.0/bb1102591c6230bd78813e229d5dd4c7fbf4fc478cec28f298761eb69e5b537c/cache-a2f04bc4f0702791.arrow\n",
            "Loading cached processed dataset at /usr/users/gpusdi1/gpusdi1_34/.cache/huggingface/datasets/snli/plain_text/1.0.0/bb1102591c6230bd78813e229d5dd4c7fbf4fc478cec28f298761eb69e5b537c/cache-9033b9523f4c7f56.arrow\n",
            "Loading cached processed dataset at /usr/users/gpusdi1/gpusdi1_34/.cache/huggingface/datasets/snli/plain_text/1.0.0/bb1102591c6230bd78813e229d5dd4c7fbf4fc478cec28f298761eb69e5b537c/cache-3958a91ee6670a5c.arrow\n",
            "Loading cached processed dataset at /usr/users/gpusdi1/gpusdi1_34/.cache/huggingface/datasets/snli/plain_text/1.0.0/bb1102591c6230bd78813e229d5dd4c7fbf4fc478cec28f298761eb69e5b537c/cache-a2fc9a38713890b6.arrow\n",
            "Loading cached processed dataset at /usr/users/gpusdi1/gpusdi1_34/.cache/huggingface/datasets/snli/plain_text/1.0.0/bb1102591c6230bd78813e229d5dd4c7fbf4fc478cec28f298761eb69e5b537c/cache-e57fef9a11003e38.arrow\n",
            "Loading cached processed dataset at /usr/users/gpusdi1/gpusdi1_34/.cache/huggingface/datasets/snli/plain_text/1.0.0/bb1102591c6230bd78813e229d5dd4c7fbf4fc478cec28f298761eb69e5b537c/cache-7c3e4c1508044150.arrow\n",
            "Loading cached processed dataset at /usr/users/gpusdi1/gpusdi1_34/.cache/huggingface/datasets/snli/plain_text/1.0.0/bb1102591c6230bd78813e229d5dd4c7fbf4fc478cec28f298761eb69e5b537c/cache-1540991a5075c077.arrow\n",
            "Loading cached processed dataset at /usr/users/gpusdi1/gpusdi1_34/.cache/huggingface/datasets/snli/plain_text/1.0.0/bb1102591c6230bd78813e229d5dd4c7fbf4fc478cec28f298761eb69e5b537c/cache-e6361be4f26d8eac.arrow\n",
            "Loading cached processed dataset at /usr/users/gpusdi1/gpusdi1_34/.cache/huggingface/datasets/snli/plain_text/1.0.0/bb1102591c6230bd78813e229d5dd4c7fbf4fc478cec28f298761eb69e5b537c/cache-1edc07d47e42a782.arrow\n",
            "Loading cached processed dataset at /usr/users/gpusdi1/gpusdi1_34/.cache/huggingface/datasets/snli/plain_text/1.0.0/bb1102591c6230bd78813e229d5dd4c7fbf4fc478cec28f298761eb69e5b537c/cache-3ad25234ef8cf7c7.arrow\n",
            "Loading cached processed dataset at /usr/users/gpusdi1/gpusdi1_34/.cache/huggingface/datasets/snli/plain_text/1.0.0/bb1102591c6230bd78813e229d5dd4c7fbf4fc478cec28f298761eb69e5b537c/cache-5231ec63302e086c.arrow\n",
            "Loading cached processed dataset at /usr/users/gpusdi1/gpusdi1_34/.cache/huggingface/datasets/snli/plain_text/1.0.0/bb1102591c6230bd78813e229d5dd4c7fbf4fc478cec28f298761eb69e5b537c/cache-ada8d65c0f3aae45.arrow\n",
            "Loading cached processed dataset at /usr/users/gpusdi1/gpusdi1_34/.cache/huggingface/datasets/snli/plain_text/1.0.0/bb1102591c6230bd78813e229d5dd4c7fbf4fc478cec28f298761eb69e5b537c/cache-fb0a36bb458a25a8.arrow\n",
            "Loading cached processed dataset at /usr/users/gpusdi1/gpusdi1_34/.cache/huggingface/datasets/snli/plain_text/1.0.0/bb1102591c6230bd78813e229d5dd4c7fbf4fc478cec28f298761eb69e5b537c/cache-5dc6ef852a536c54.arrow\n",
            "Loading cached processed dataset at /usr/users/gpusdi1/gpusdi1_34/.cache/huggingface/datasets/snli/plain_text/1.0.0/bb1102591c6230bd78813e229d5dd4c7fbf4fc478cec28f298761eb69e5b537c/cache-5d1cd30be9d4e36b.arrow\n",
            "Loading cached processed dataset at /usr/users/gpusdi1/gpusdi1_34/.cache/huggingface/datasets/snli/plain_text/1.0.0/bb1102591c6230bd78813e229d5dd4c7fbf4fc478cec28f298761eb69e5b537c/cache-0ea27f394d5bfbce.arrow\n",
            "Loading cached processed dataset at /usr/users/gpusdi1/gpusdi1_34/.cache/huggingface/datasets/snli/plain_text/1.0.0/bb1102591c6230bd78813e229d5dd4c7fbf4fc478cec28f298761eb69e5b537c/cache-29a9564d8c0f2b94.arrow\n",
            "Loading cached processed dataset at /usr/users/gpusdi1/gpusdi1_34/.cache/huggingface/datasets/snli/plain_text/1.0.0/bb1102591c6230bd78813e229d5dd4c7fbf4fc478cec28f298761eb69e5b537c/cache-5f86ff8b0a353ad2.arrow\n",
            "Loading cached processed dataset at /usr/users/gpusdi1/gpusdi1_34/.cache/huggingface/datasets/snli/plain_text/1.0.0/bb1102591c6230bd78813e229d5dd4c7fbf4fc478cec28f298761eb69e5b537c/cache-037a2fb8ecd86860.arrow\n",
            "Loading cached processed dataset at /usr/users/gpusdi1/gpusdi1_34/.cache/huggingface/datasets/snli/plain_text/1.0.0/bb1102591c6230bd78813e229d5dd4c7fbf4fc478cec28f298761eb69e5b537c/cache-5447ec8d4d172801.arrow\n",
            "Loading cached processed dataset at /usr/users/gpusdi1/gpusdi1_34/.cache/huggingface/datasets/snli/plain_text/1.0.0/bb1102591c6230bd78813e229d5dd4c7fbf4fc478cec28f298761eb69e5b537c/cache-afc2f00a80b06b29.arrow\n"
          ],
          "name": "stderr"
        }
      ]
    },
    {
      "cell_type": "code",
      "metadata": {
        "id": "PFSmAz5KI7ll"
      },
      "source": [
        "train.set_format(type='torch', columns=['input_ids', 'attention_mask', 'labels'])\n",
        "test.set_format(type='torch', columns=['input_ids', 'attention_mask', 'labels'])\n",
        "validation.set_format(type='torch', columns=['input_ids', 'attention_mask', 'labels'])\n",
        "\n",
        "train_dataloader = torch.utils.data.DataLoader(train, batch_size=BATCH_SIZE, num_workers=os.cpu_count())\n",
        "val_dataloader = torch.utils.data.DataLoader(validation, batch_size=BATCH_SIZE,num_workers=os.cpu_count())\n",
        "test_dataloader = torch.utils.data.DataLoader(test, batch_size=BATCH_SIZE,num_workers=os.cpu_count())"
      ],
      "execution_count": null,
      "outputs": []
    },
    {
      "cell_type": "code",
      "metadata": {
        "id": "KUUVKULAI7lm",
        "outputId": "788f5e1d-f4a9-4abd-cd8f-72bd8c3d366d"
      },
      "source": [
        "test"
      ],
      "execution_count": null,
      "outputs": [
        {
          "output_type": "execute_result",
          "data": {
            "text/plain": [
              "Dataset({\n",
              "    features: ['attention_mask', 'hypothesis', 'input_ids', 'label', 'labels', 'premise'],\n",
              "    num_rows: 9824\n",
              "})"
            ]
          },
          "metadata": {
            "tags": []
          },
          "execution_count": 17
        }
      ]
    },
    {
      "cell_type": "code",
      "metadata": {
        "id": "xBU7sOqjI7lo",
        "outputId": "f6b6f076-adf4-40a6-b5e8-281efcad4172"
      },
      "source": [
        "next(iter(train_dataloader))"
      ],
      "execution_count": null,
      "outputs": [
        {
          "output_type": "execute_result",
          "data": {
            "text/plain": [
              "{'attention_mask': tensor([[1, 1, 1,  ..., 0, 0, 0],\n",
              "         [1, 1, 1,  ..., 0, 0, 0],\n",
              "         [1, 1, 1,  ..., 0, 0, 0],\n",
              "         ...,\n",
              "         [1, 1, 1,  ..., 0, 0, 0],\n",
              "         [1, 1, 1,  ..., 0, 0, 0],\n",
              "         [1, 1, 1,  ..., 0, 0, 0]]),\n",
              " 'input_ids': tensor([[ 101, 1037, 2711,  ...,    0,    0,    0],\n",
              "         [ 101, 1037, 2711,  ...,    0,    0,    0],\n",
              "         [ 101, 1037, 2711,  ...,    0,    0,    0],\n",
              "         ...,\n",
              "         [ 101, 2450, 1999,  ...,    0,    0,    0],\n",
              "         [ 101, 2450, 1999,  ...,    0,    0,    0],\n",
              "         [ 101, 2450, 1999,  ...,    0,    0,    0]]),\n",
              " 'labels': tensor([1, 2, 0, 1, 0, 2, 2, 0, 1, 1, 2, 1, 1, 2, 0, 1, 2, 0, 0, 2, 1, 1, 2, 0,\n",
              "         2, 0, 1, 1, 2, 0, 1, 0, 2, 2, 1, 0, 2, 0, 1, 1, 0, 2, 1, 0, 0, 0, 1, 2,\n",
              "         2, 0, 1, 2, 0, 1, 2, 1, 0, 1, 2, 0, 0, 2, 1, 0])}"
            ]
          },
          "metadata": {
            "tags": []
          },
          "execution_count": 18
        }
      ]
    },
    {
      "cell_type": "code",
      "metadata": {
        "id": "vU9nwo3VI7lp",
        "outputId": "fbf2802f-97dc-4f09-c414-2cad256b21c6"
      },
      "source": [
        "print(train['premise'][1])\n",
        "print(train['hypothesis'][1])\n",
        "print(tokenizer.decode(train['input_ids'][1]))"
      ],
      "execution_count": null,
      "outputs": [
        {
          "output_type": "stream",
          "text": [
            "A person on a horse jumps over a broken down airplane.\n",
            "A person is at a diner, ordering an omelette.\n",
            "[CLS] a person on a horse jumps over a broken down airplane. [SEP] a person is at a diner, ordering an omelette. [SEP] [PAD] [PAD] [PAD] [PAD] [PAD] [PAD] [PAD] [PAD] [PAD] [PAD] [PAD] [PAD] [PAD] [PAD] [PAD] [PAD] [PAD] [PAD] [PAD] [PAD] [PAD] [PAD] [PAD] [PAD] [PAD] [PAD] [PAD] [PAD] [PAD] [PAD] [PAD] [PAD] [PAD] [PAD] [PAD] [PAD] [PAD] [PAD] [PAD] [PAD] [PAD] [PAD] [PAD] [PAD] [PAD] [PAD] [PAD] [PAD] [PAD] [PAD] [PAD] [PAD] [PAD] [PAD] [PAD] [PAD] [PAD] [PAD] [PAD] [PAD] [PAD] [PAD] [PAD] [PAD] [PAD] [PAD] [PAD] [PAD] [PAD] [PAD] [PAD] [PAD] [PAD] [PAD] [PAD] [PAD] [PAD] [PAD] [PAD] [PAD] [PAD] [PAD]\n"
          ],
          "name": "stdout"
        }
      ]
    },
    {
      "cell_type": "markdown",
      "metadata": {
        "id": "83bexCVEI7lq"
      },
      "source": [
        "Maintenant que les phrases sont bien tokenisées, on peut passer à l'entraînement du distilBERT"
      ]
    },
    {
      "cell_type": "markdown",
      "metadata": {
        "id": "IqTpAcz_I7lr"
      },
      "source": [
        "## Part 2 : Train / Evaluation"
      ]
    },
    {
      "cell_type": "code",
      "metadata": {
        "id": "zHSXSsnUI7ls"
      },
      "source": [
        "def train_bert(model,clip):\n",
        "    totloss=0\n",
        "    model.train().to(device)\n",
        "    optimizer = torch.optim.Adam(params=model.parameters(), lr=learning_rate)\n",
        "    for i, batch in enumerate(tqdm(train_dataloader)):\n",
        "        batch = {k: v.to(device) for k, v in batch.items()}\n",
        "        outputs = model(**batch)\n",
        "        loss = outputs[0]\n",
        "        loss.backward()\n",
        "        torch.nn.utils.clip_grad_norm_(model.parameters(), clip)\n",
        "        totloss+= loss.item()\n",
        "        optimizer.step()\n",
        "        optimizer.zero_grad()\n",
        "        if i % 100 == 0:\n",
        "            print(f\"train_loss: {loss}\")\n",
        "    lossavg = totloss/len(train_dataloader)\n",
        "    print(f\"Loss: {lossavg}\")\n",
        "    return lossavg\n",
        "\n",
        "def val(model):\n",
        "    model.train().to(device)    \n",
        "    model.eval()\n",
        "    totloss = 0\n",
        "    optimizer = torch.optim.Adam(params=model.parameters(), lr=learning_rate)\n",
        "    for i, batch in enumerate(tqdm(val_dataloader)):\n",
        "        batch = {k: v.to(device) for k, v in batch.items()}\n",
        "        outputs = model(**batch)\n",
        "        loss = outputs[0]\n",
        "        totloss+=loss.item()\n",
        "        if i % 100 == 0:\n",
        "            print(f\"Val loss: {loss:.3f}\")\n",
        "    lossavg = totloss/len(train_dataloader)\n",
        "    print(f\"Loss: {lossavg}\")\n",
        "    return lossavg\n"
      ],
      "execution_count": null,
      "outputs": []
    },
    {
      "cell_type": "markdown",
      "metadata": {
        "id": "Z4VWJ0PvI7lu"
      },
      "source": [
        "Comme l'entraînement prend environ 8h, on sauvegarde les poids du modèle, quand on trouve un meilleur modèle en fonction de la validation loss. Un lien pour télécharger les poids est disponible ici : https://filesender.renater.fr/?s=download&token=75ceaacf-521b-49d8-a7c8-2285ef358a31"
      ]
    },
    {
      "cell_type": "code",
      "metadata": {
        "id": "L9dZ97_mI7lv"
      },
      "source": [
        "best_validation_loss = float('inf')\n",
        "clip=1\n",
        "for epoch in range(epocs):\n",
        "    print('Epoch : ',epoch)    \n",
        "    train_loss = train_bert(bertmodel,clip)\n",
        "    valid_loss = val(bertmodel)\n",
        "    if valid_loss < best_validation_loss:\n",
        "        print('Saving a new model')\n",
        "        best_valid_loss = valid_loss\n",
        "        torch.save(bertmodel.state_dict(), '/usr/users/gpusdi1/gpusdi1_26/Documents/NLP/NLP_Natural-Language-Inferencing/dist_model.pt')\n",
        "    print(f'Epoch: {epoch+1:02}')\n",
        "    print(f'\\tTrain Loss: {train_loss:.3f}')\n",
        "    print(f'\\t Val. Loss: {valid_loss:.3f}')"
      ],
      "execution_count": null,
      "outputs": []
    },
    {
      "cell_type": "markdown",
      "metadata": {
        "id": "TeuyqXhXI7lw"
      },
      "source": [
        "## Part 3 : Testing the model ##"
      ]
    },
    {
      "cell_type": "markdown",
      "metadata": {
        "id": "IzJ3XAvtI7lx"
      },
      "source": [
        "Après 8h d'entraînement, on se retrouve pour tester notre modèle :"
      ]
    },
    {
      "cell_type": "code",
      "metadata": {
        "id": "5GTX3IE7I7ly",
        "outputId": "77535928-24fc-47ee-ba46-6733e77cd0bf"
      },
      "source": [
        "!pwd"
      ],
      "execution_count": null,
      "outputs": [
        {
          "output_type": "stream",
          "text": [
            "/usr/users/gpusdi1/gpusdi1_34/Bureau/NLP_TP8\n"
          ],
          "name": "stdout"
        }
      ]
    },
    {
      "cell_type": "markdown",
      "metadata": {
        "id": "_3IKGMFmI7lz"
      },
      "source": [
        "/!\\ Spécifiez bien le chemin d'accès aux poids du modèle\n",
        "\n",
        "Checkpoint : \n",
        "\n",
        "On peut charger les poids de notre modèle au lieu d'attendre 8h"
      ]
    },
    {
      "cell_type": "code",
      "metadata": {
        "id": "l3j5GV4cI7l0",
        "outputId": "1a89b40e-0300-45c6-f209-68b240bad63a"
      },
      "source": [
        "bertmodel.load_state_dict(torch.load('/usr/users/gpusdi1/gpusdi1_34/Bureau/NLP_TP8/dist_model.pt'))"
      ],
      "execution_count": null,
      "outputs": [
        {
          "output_type": "execute_result",
          "data": {
            "text/plain": [
              "<All keys matched successfully>"
            ]
          },
          "metadata": {
            "tags": []
          },
          "execution_count": 21
        }
      ]
    },
    {
      "cell_type": "code",
      "metadata": {
        "id": "mkbjogvkI7l3"
      },
      "source": [
        "bertmodel = bertmodel.to(device)"
      ],
      "execution_count": null,
      "outputs": []
    },
    {
      "cell_type": "code",
      "metadata": {
        "id": "3JS4jFFUI7l4"
      },
      "source": [
        "def test_distilbert(model,dataset):\n",
        "    test_predict_label = []\n",
        "    torch.cuda.empty_cache()\n",
        "    model.eval()\n",
        "    total_loss = 0\n",
        "    for i, batch in enumerate(tqdm(dataset)):\n",
        "            batch = {k: v.to(device) for k, v in batch.items()}\n",
        "            outputs = model(**batch)\n",
        "            max_prediction = torch.argmax(outputs.logits,dim=1)\n",
        "            test_predict_label += max_prediction.tolist()\n",
        "            loss = outputs[0]\n",
        "            total_loss +=loss.item()\n",
        "    print(f'Test loss = {total_loss/len(dataset)}')\n",
        "    \n",
        "    return(test_predict_label)\n",
        "      "
      ],
      "execution_count": null,
      "outputs": []
    },
    {
      "cell_type": "code",
      "metadata": {
        "id": "UZGPX64gI7l6",
        "outputId": "97868b0d-12b1-4c5b-d5b3-bda49fd7dd1f"
      },
      "source": [
        "test_true_label = test['label']\n",
        "test_predict_label = test_distilbert(bertmodel, test_dataloader)"
      ],
      "execution_count": null,
      "outputs": [
        {
          "output_type": "stream",
          "text": [
            "100%|██████████| 154/154 [00:10<00:00, 14.47it/s]"
          ],
          "name": "stderr"
        },
        {
          "output_type": "stream",
          "text": [
            "Test loss = 0.47102952226028816\n"
          ],
          "name": "stdout"
        },
        {
          "output_type": "stream",
          "text": [
            "\n"
          ],
          "name": "stderr"
        }
      ]
    },
    {
      "cell_type": "code",
      "metadata": {
        "id": "rLWrhC1GI7l8",
        "outputId": "6502d05f-cd80-46b2-83e5-8eb4252f4ada"
      },
      "source": [
        "from sklearn.metrics import accuracy_score\n",
        "\n",
        "acc = accuracy_score(test_true_label,test_predict_label)\n",
        "print(f\"L'accuracy de notre modèle est de : {acc}\")"
      ],
      "execution_count": null,
      "outputs": [
        {
          "output_type": "stream",
          "text": [
            "L'accuracy de notre modèle est de : 0.8841612377850163\n"
          ],
          "name": "stdout"
        }
      ]
    },
    {
      "cell_type": "markdown",
      "metadata": {
        "id": "oXeEhnGII7l9"
      },
      "source": [
        "## Part 4 : Using customised sentences"
      ]
    },
    {
      "cell_type": "markdown",
      "metadata": {
        "id": "LPF-1wYDI7l-"
      },
      "source": [
        "Maintenant, on test notre modèle sur nos propres phrases"
      ]
    },
    {
      "cell_type": "code",
      "metadata": {
        "id": "uQnUNZucI7l_"
      },
      "source": [
        "def test_between_sentences(premise, hypothesis, model):\n",
        "    dict_relation = {0:\"Entailment\", 1:\"Neutral\", 2:\"Contradiction\"}\n",
        "    inpuut = tokenizer(premise, hypothesis, return_tensors = \"pt\")\n",
        "    model.eval()\n",
        "    softmax = nn.Softmax(dim = 1)\n",
        "    output = softmax(model(**inpuut.to(device)).logits)\n",
        "    max_last = torch.max(output)\n",
        "    max_prediction = torch.argmax(output)\n",
        "    NLI = dict_relation[max_prediction.item()]\n",
        "    print(f'The model distilbert gives the relation {NLI} (proba : {max_last:.3f}) between {hypothesis} and {premise}.')\n",
        "    "
      ],
      "execution_count": null,
      "outputs": []
    },
    {
      "cell_type": "code",
      "metadata": {
        "id": "0WvrnTvlI7mA",
        "outputId": "ab051dfa-7c14-46ce-82d0-ddd498cc7849"
      },
      "source": [
        "test_between_sentences(\"I am happy\", \"I am not sad\", bertmodel)\n",
        "test_between_sentences(\"I hate you\", \"I love you\", bertmodel)\n",
        "test_between_sentences(\"The sky is blue\",\"I am a student\", bertmodel)"
      ],
      "execution_count": null,
      "outputs": [
        {
          "output_type": "stream",
          "text": [
            "The model distilbert gives the relation Entailment (proba : 0.996) between I am not sad and I am happy.\n",
            "The model distilbert gives the relation Contradiction (proba : 0.999) between I love you and I hate you.\n",
            "The model distilbert gives the relation Neutral (proba : 0.905) between I am a student and The sky is blue.\n"
          ],
          "name": "stdout"
        }
      ]
    },
    {
      "cell_type": "markdown",
      "metadata": {
        "id": "nQv6Ny1RI7mC"
      },
      "source": [
        "Pendant nos expérimentations, on a remarqué cela, alors que quand on inverse les phrases, le modèle est plus certain de sa prédiction."
      ]
    },
    {
      "cell_type": "code",
      "metadata": {
        "id": "ICelTH77I7mD",
        "outputId": "28b1fda9-63fe-4925-b320-53e2271c296e"
      },
      "source": [
        "test_between_sentences(\"I am a student\",\"The sky is blue\", bertmodel)\n",
        "test_between_sentences(\"The sky is blue\",\"I am a student\", bertmodel)"
      ],
      "execution_count": null,
      "outputs": [
        {
          "output_type": "stream",
          "text": [
            "The model distilbert gives the relation Neutral (proba : 0.630) between The sky is blue and I am a student.\n",
            "The model distilbert gives the relation Neutral (proba : 0.905) between I am a student and The sky is blue.\n"
          ],
          "name": "stdout"
        }
      ]
    },
    {
      "cell_type": "code",
      "metadata": {
        "id": "dfjpN1nhI7mE"
      },
      "source": [
        "def test_sentences_stanford(n, model):\n",
        "    premise = train['premise'][n]\n",
        "    hypothesis = train['hypothesis'][n]\n",
        "    label = train['label'][n]\n",
        "    dict_relation = {0:\"Entailment\", 1:\"Neutral\", 2:\"Contradiction\"}\n",
        "    NLI = dict_relation[label]\n",
        "    test_between_sentences(premise, hypothesis, model)\n",
        "    print(f'Expected : {NLI}')"
      ],
      "execution_count": null,
      "outputs": []
    },
    {
      "cell_type": "code",
      "metadata": {
        "id": "K-ZZ5l1iI7mF",
        "outputId": "15d11289-e231-4c54-9d5b-b65778444e71"
      },
      "source": [
        "test_sentences_stanford(7, bertmodel)"
      ],
      "execution_count": null,
      "outputs": [
        {
          "output_type": "stream",
          "text": [
            "The model distilbert gives the relation Entailment (proba : 0.994) between The boy does a skateboarding trick. and A boy is jumping on skateboard in the middle of a red bridge..\n",
            "Expected : Entailment\n"
          ],
          "name": "stdout"
        }
      ]
    },
    {
      "cell_type": "markdown",
      "metadata": {
        "id": "zs-GRc2PI7mG"
      },
      "source": [
        "# Part 5 : Visualisation"
      ]
    },
    {
      "cell_type": "code",
      "metadata": {
        "id": "82193V6lI7mH"
      },
      "source": [
        "def find_relation(n,model): #on va chercher juste dans le dataset (train), pour savoir ce qui s'est passé\n",
        "    premise = train['premise'][n]\n",
        "    hypothesis = train['hypothesis'][n]\n",
        "    sentence_tokenized = tokenizer(premise, hypothesis, return_tensors = \"pt\")\n",
        "    model.eval()\n",
        "    outputs = model(**sentence_tokenized.to(device))\n",
        "    attention = outputs.attentions #on a ce qui nous interesse\n",
        "    sentence_decoded =tokenizer.decode(sentence_tokenized.input_ids.cpu().detach().numpy()[0])#pour afficher\n",
        "    return sentence_decoded,attention\n",
        "    "
      ],
      "execution_count": null,
      "outputs": []
    },
    {
      "cell_type": "code",
      "metadata": {
        "id": "tHoBWw86I7mI"
      },
      "source": [
        "import matplotlib.pyplot as plt\n",
        "import matplotlib.ticker as ticker\n",
        "\n",
        "def display_attention(n, model, numlayer, numhead):\n",
        "    \n",
        "    sentence_decoded, attention = find_relation(n,model)\n",
        "    \n",
        "    fig = plt.figure(figsize=(10,10))\n",
        "    ax = fig.add_subplot(111)\n",
        "    \n",
        "    attention = attention[numlayer].squeeze(0)[numhead].cpu().detach().numpy()\n",
        "    \n",
        "    cax = ax.matshow(attention, cmap='bone')\n",
        "   \n",
        "    ax.tick_params(labelsize=15)\n",
        "    \n",
        "    x_ticks = [''] + [word.lower() for word in sentence_decoded.split()]\n",
        "    y_ticks = [''] + [word.lower() for word in sentence_decoded.split()]\n",
        "     \n",
        "    ax.set_xticklabels(x_ticks, rotation=45)\n",
        "    ax.set_yticklabels(y_ticks)\n",
        "\n",
        "    ax.xaxis.set_major_locator(ticker.MultipleLocator(1))\n",
        "    ax.yaxis.set_major_locator(ticker.MultipleLocator(1))\n",
        "\n",
        "    plt.show()\n",
        "    plt.close()"
      ],
      "execution_count": null,
      "outputs": []
    },
    {
      "cell_type": "code",
      "metadata": {
        "id": "xAaPhI5zI7mJ",
        "outputId": "68be01a2-0d90-4aba-a9e4-1de3c9dade47"
      },
      "source": [
        "sentence_decoded, attention = find_relation(4,bertmodel) #ex ac phrase 5\n",
        "sentence_decoded"
      ],
      "execution_count": null,
      "outputs": [
        {
          "output_type": "execute_result",
          "data": {
            "text/plain": [
              "'[CLS] children smiling and waving at camera [SEP] there are children present [SEP]'"
            ]
          },
          "metadata": {
            "tags": []
          },
          "execution_count": 201
        }
      ]
    },
    {
      "cell_type": "markdown",
      "metadata": {
        "id": "vjWYy535Jhhe"
      },
      "source": [
        "Notre modele a 6 layers, c'est à dire 6 blocs de transformers et 12 têtes d'attention, vérifions ce nombre et exploitons les pour la visualisation"
      ]
    },
    {
      "cell_type": "markdown",
      "metadata": {
        "id": "9GVuVI1wJexn"
      },
      "source": [
        "![image.png](data:image/png;base64,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)"
      ]
    },
    {
      "cell_type": "markdown",
      "metadata": {
        "id": "N0QwMUx9Ksw7"
      },
      "source": [
        "Notons le nombre de layers nb1"
      ]
    },
    {
      "cell_type": "code",
      "metadata": {
        "id": "E7-MaG8CI7mK",
        "outputId": "70b0ce02-bdb0-41c2-c083-ad48ae0f2dc2"
      },
      "source": [
        "nb1 = len(attention)# 6\n",
        "nb1"
      ],
      "execution_count": null,
      "outputs": [
        {
          "output_type": "execute_result",
          "data": {
            "text/plain": [
              "6"
            ]
          },
          "metadata": {
            "tags": []
          },
          "execution_count": 202
        }
      ]
    },
    {
      "cell_type": "markdown",
      "metadata": {
        "id": "LumWhGT3Kyhv"
      },
      "source": [
        "Notons le nombre de tête d'attention nb2"
      ]
    },
    {
      "cell_type": "code",
      "metadata": {
        "id": "iw7XqPLNI7mM",
        "outputId": "af3c6a40-04a5-4764-8476-f08a2dd2ddaf"
      },
      "source": [
        "nb2 = len(attention[5].squeeze()) #12\n",
        "nb2"
      ],
      "execution_count": null,
      "outputs": [
        {
          "output_type": "execute_result",
          "data": {
            "text/plain": [
              "12"
            ]
          },
          "metadata": {
            "tags": []
          },
          "execution_count": 204
        }
      ]
    },
    {
      "cell_type": "markdown",
      "metadata": {
        "id": "5CnN2q57MD3B"
      },
      "source": [
        "On peut voir ici un exemple de multi-head attention, le h correspondant à notre nb2."
      ]
    },
    {
      "cell_type": "markdown",
      "metadata": {
        "id": "8-NkQdb6L3Gf"
      },
      "source": [
        "![image.png](data:image/png;base64,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)"
      ]
    },
    {
      "cell_type": "markdown",
      "metadata": {
        "id": "lrv8esdSI7mN"
      },
      "source": [
        "En parcourant l'attention par le display, nous avons trouvé que c'était un modele avec 6 avec 12 têtes d'attention (multi-head).\n",
        "En testant le display attention on voit que pour 0,0, c'est très uniforme, et à la fin ca converge vers un résultat intéréssant\n"
      ]
    },
    {
      "cell_type": "markdown",
      "metadata": {
        "id": "I3KOoAPoI7mO"
      },
      "source": [
        "Voici l'attention lors du début, avec le premier bloc de transformer, les résultats ne sont pas exploitables."
      ]
    },
    {
      "cell_type": "code",
      "metadata": {
        "id": "OJzJr0Z4I7mO",
        "outputId": "5f806cd6-875f-46d1-b6f7-cc737410ca27"
      },
      "source": [
        "display_attention(4,bertmodel,0,0)"
      ],
      "execution_count": null,
      "outputs": [
        {
          "output_type": "display_data",
          "data": {
            "image/png": "[encoded data removed]",
            "text/plain": [
              "<Figure size 720x720 with 1 Axes>"
            ]
          },
          "metadata": {
            "tags": [],
            "needs_background": "light"
          }
        }
      ]
    },
    {
      "cell_type": "markdown",
      "metadata": {
        "id": "_yDoE45uI7mQ"
      },
      "source": [
        "Affichons ensuite une des têtes d'attention pour le dernier des blocs de transormers, on voit clairement maintenant d'où l'attention venait pour cette tête d'attention."
      ]
    },
    {
      "cell_type": "code",
      "metadata": {
        "id": "UXW-JjBiI7mR",
        "outputId": "6bc8329b-1c0a-43ff-d80e-5eea73455942"
      },
      "source": [
        "display_attention(4,bertmodel,nb1-1,nb2-2)"
      ],
      "execution_count": null,
      "outputs": [
        {
          "output_type": "display_data",
          "data": {
            "image/png": "[encoded data removed]",
            "text/plain": [
              "<Figure size 720x720 with 1 Axes>"
            ]
          },
          "metadata": {
            "tags": [],
            "needs_background": "light"
          }
        }
      ]
    },
    {
      "cell_type": "markdown",
      "metadata": {
        "id": "mQwD-MQRI7mT"
      },
      "source": [
        "## Conclusion ##"
      ]
    },
    {
      "cell_type": "markdown",
      "metadata": {
        "id": "RHYNv1xyI7mT"
      },
      "source": [
        "Pendant ce TP, nous avons pu mettre en place un distilBERT afin de classifier la relation (Commune, Neutre et Contradictoire) entre deux phrases.\n",
        "\n",
        "Notre modèle a obtenu une accuracy de 88%.\n",
        "\n",
        "Nous pouvons aussi grace à la visualisation savoir d'où vient l'attention lors de la comparaison des relations.\n",
        "\n",
        "Pour améliorer notre résultat nous pouvons changer de transformer en prenant par exemple le Bert original avec 12 layers et 12 attention heads, voire le large Bert avec 24 layers et 16 attention heads."
      ]
    },
    {
      "cell_type": "code",
      "metadata": {
        "id": "eFIre3vgMlRH"
      },
      "source": [
        ""
      ],
      "execution_count": null,
      "outputs": []
    }
  ]
}
